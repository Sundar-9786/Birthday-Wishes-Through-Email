{
 "cells": [
  {
   "cell_type": "code",
   "execution_count": 2,
   "id": "e7911514-8e40-485f-96bc-3624d6990084",
   "metadata": {},
   "outputs": [
    {
     "name": "stdout",
     "output_type": "stream",
     "text": [
      "Birthday emails sent successfully!\n"
     ]
    }
   ],
   "source": [
    "from datetime import datetime\n",
    "import pandas as pd\n",
    "import smtplib\n",
    "from email.mime.text import MIMEText\n",
    "from email.mime.multipart import MIMEMultipart\n",
    "\n",
    "# Email credentials\n",
    "MY_EMAIL = \"sundarrajdme333@gmail.com\"\n",
    "MY_PASSWORD = \"hjjktuxguvrtknxz\"\n",
    "\n",
    "# Get today's date\n",
    "today = datetime.now()\n",
    "today_tuple = (today.month, today.day)\n",
    "\n",
    "# Read the birthdays CSV\n",
    "data = pd.read_csv(\"birthdays.csv\")\n",
    "\n",
    "# Filter the rows where the birthday matches today\n",
    "birthday_people = data[(data[\"month\"] == today_tuple[0]) & (data[\"day\"] == today_tuple[1])]\n",
    "\n",
    "if not birthday_people.empty:\n",
    "    # Read letter_2.txt\n",
    "    with open(\"letter_templates/letter_2.txt\", \"r\", encoding=\"utf-8\") as letter_file:\n",
    "        letter_contents = letter_file.read()\n",
    "    \n",
    "    # Establish email connection\n",
    "    with smtplib.SMTP(\"smtp.gmail.com\") as connection:\n",
    "        connection.starttls()\n",
    "        connection.login(MY_EMAIL, MY_PASSWORD)\n",
    "        \n",
    "        # Send an email to each birthday person\n",
    "        for _, person in birthday_people.iterrows():\n",
    "            personalized_letter = letter_contents.replace(\"[NAME]\", person[\"name\"])\n",
    "            \n",
    "            # Create email message with UTF-8 encoding\n",
    "            msg = MIMEMultipart()\n",
    "            msg[\"From\"] = MY_EMAIL\n",
    "            msg[\"To\"] = person[\"email\"]\n",
    "            msg[\"Subject\"] = \"Happy Birthday!\"\n",
    "            msg.attach(MIMEText(personalized_letter, \"plain\", \"utf-8\"))\n",
    "            \n",
    "            # Send email\n",
    "            connection.sendmail(\n",
    "                from_addr=MY_EMAIL,\n",
    "                to_addrs=person[\"email\"],\n",
    "                msg=msg.as_string()\n",
    "            )\n",
    "\n",
    "print(\"Birthday emails sent successfully!\")\n"
   ]
  }
 ],
 "metadata": {
  "kernelspec": {
   "display_name": "Python 3 (ipykernel)",
   "language": "python",
   "name": "python3"
  },
  "language_info": {
   "codemirror_mode": {
    "name": "ipython",
    "version": 3
   },
   "file_extension": ".py",
   "mimetype": "text/x-python",
   "name": "python",
   "nbconvert_exporter": "python",
   "pygments_lexer": "ipython3",
   "version": "3.10.11"
  }
 },
 "nbformat": 4,
 "nbformat_minor": 5
}
